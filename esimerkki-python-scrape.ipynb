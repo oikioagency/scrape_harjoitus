{
 "cells": [
  {
   "cell_type": "code",
   "execution_count": 11,
   "metadata": {},
   "outputs": [],
   "source": [
    "from bs4 import BeautifulSoup\n",
    "import requests\n",
    "from fake_useragent import UserAgent"
   ]
  },
  {
   "cell_type": "code",
   "execution_count": 16,
   "metadata": {},
   "outputs": [],
   "source": [
    "ua = UserAgent()\n",
    "header = {'user-agent':ua.chrome}\n",
    "url = 'https://oikio.fi/asiantuntijatiimi/'\n",
    "page = requests.get(url,headers=header)\n",
    "soup = BeautifulSoup(page.content, 'html.parser')"
   ]
  },
  {
   "cell_type": "code",
   "execution_count": 13,
   "metadata": {},
   "outputs": [
    {
     "data": {
      "text/plain": [
       "<title>Tutustu asiantuntijatiimiimme » OIKIO</title>"
      ]
     },
     "execution_count": 13,
     "metadata": {},
     "output_type": "execute_result"
    }
   ],
   "source": [
    "soup.title"
   ]
  },
  {
   "cell_type": "code",
   "execution_count": 14,
   "metadata": {},
   "outputs": [
    {
     "data": {
      "text/plain": [
       "<div class=\"col-xs-12 col-md-6 col-lg-4 single-person\">\n",
       "<a href=\"https://oikio.fi/asiantuntijatiimi/taru-paavola/\">\n",
       "<div class=\"image\">\n",
       "<img src=\"/wp-content/uploads/2019/11/taru_pieni.jpg\"/>\n",
       "</div>\n",
       "<span class=\"name\">Taru Paavola</span>\n",
       "<span class=\"title\">Junior Paid Social &amp; Programmatic Consultant</span>\n",
       "</a>\n",
       "</div>"
      ]
     },
     "execution_count": 14,
     "metadata": {},
     "output_type": "execute_result"
    }
   ],
   "source": [
    "henkilo_div = soup.find_all('div', class_ = 'single-person')\n",
    "henkilo_div[0]"
   ]
  },
  {
   "cell_type": "code",
   "execution_count": 15,
   "metadata": {},
   "outputs": [
    {
     "name": "stdout",
     "output_type": "stream",
     "text": [
      "Taru Paavola :   Junior Paid Social & Programmatic Consultant\n",
      "Aleksi Rastas :   Senior Web Analyst\n",
      "Jyri Vuorinen :   Senior Web Analyst\n",
      "Selja Selenius :   Lead Programmatic Consultant\n",
      "Krista Tikka :   Lead Paid Social Consultant\n",
      "Ilpo Ryynänen :   Head of Data & Programmatic\n",
      "Iiris Lagus :   SEO Consultant\n",
      "Essi Martevo :   SEO Consultant\n",
      "Frans Astala :   SEO Consultant\n",
      "Henri Tamminen :   SEO Consultant\n",
      "Joonas Kantoluoto :   SEO Consultant\n",
      "Satu Brandt :   SEO Consultant & Team Lead\n",
      "Emilia Lahti :   SEO Consultant\n",
      "Joona Tuunanen :   Head of SEO\n",
      "Jaani Saulamaa :   PPC Consultant\n",
      "Iiro Heiskanen :   PPC Consultant\n",
      "Jaana Räsänen :   PPC Consultant\n",
      "Joonas Savolainen :   PPC Consultant\n",
      "Joachim Granberg :   Senior PPC Consultant\n",
      "Mirkka Mussalo :   PPC Consultant & Team Lead\n",
      "Saad Hafeez :   PPC Consultant\n",
      "Juha Viherväs :   Head of PPC\n",
      "Satu Tamminen :   Business Controller\n",
      "Niilo Relander :   CEO\n"
     ]
    }
   ],
   "source": [
    "for henkilo in henkilo_div:\n",
    "    spanit = henkilo.find_all('span')\n",
    "    nimi = spanit[0].text\n",
    "    titteli = spanit[1].text\n",
    "    print(nimi, \":  \", titteli)\n"
   ]
  },
  {
   "cell_type": "code",
   "execution_count": null,
   "metadata": {},
   "outputs": [],
   "source": []
  }
 ],
 "metadata": {
  "kernelspec": {
   "display_name": "Python 3",
   "language": "python",
   "name": "python3"
  },
  "language_info": {
   "codemirror_mode": {
    "name": "ipython",
    "version": 3
   },
   "file_extension": ".py",
   "mimetype": "text/x-python",
   "name": "python",
   "nbconvert_exporter": "python",
   "pygments_lexer": "ipython3",
   "version": "3.7.3"
  }
 },
 "nbformat": 4,
 "nbformat_minor": 2
}
